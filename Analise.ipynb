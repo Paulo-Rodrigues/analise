{
 "cells": [
  {
   "cell_type": "code",
   "execution_count": 18,
   "metadata": {},
   "outputs": [],
   "source": [
    "import numpy as np\n",
    "import pandas as pd\n",
    "import matplotlib.pyplot as plt\n",
    "import seaborn as sns"
   ]
  },
  {
   "cell_type": "markdown",
   "metadata": {},
   "source": [
    "#### Análise exploratória para o ano de 2006"
   ]
  },
  {
   "cell_type": "code",
   "execution_count": 19,
   "metadata": {},
   "outputs": [],
   "source": [
    "dataset2006 = pd.read_excel('./data/Vigitel-2006-peso-rake.xls')"
   ]
  },
  {
   "cell_type": "code",
   "execution_count": 20,
   "metadata": {},
   "outputs": [
    {
     "data": {
      "text/html": [
       "<div>\n",
       "<style scoped>\n",
       "    .dataframe tbody tr th:only-of-type {\n",
       "        vertical-align: middle;\n",
       "    }\n",
       "\n",
       "    .dataframe tbody tr th {\n",
       "        vertical-align: top;\n",
       "    }\n",
       "\n",
       "    .dataframe thead th {\n",
       "        text-align: right;\n",
       "    }\n",
       "</style>\n",
       "<table border=\"1\" class=\"dataframe\">\n",
       "  <thead>\n",
       "    <tr style=\"text-align: right;\">\n",
       "      <th></th>\n",
       "      <th>ordem</th>\n",
       "      <th>ano</th>\n",
       "      <th>cidade</th>\n",
       "      <th>replica</th>\n",
       "      <th>q6</th>\n",
       "      <th>q7</th>\n",
       "      <th>civil</th>\n",
       "      <th>q8a</th>\n",
       "      <th>q8b</th>\n",
       "      <th>anoescol</th>\n",
       "      <th>...</th>\n",
       "      <th>ati_l</th>\n",
       "      <th>ativo_livre</th>\n",
       "      <th>ativo_livre_trans</th>\n",
       "      <th>ina_livre</th>\n",
       "      <th>inat_des_trab</th>\n",
       "      <th>inat_des_esc</th>\n",
       "      <th>inat_desl</th>\n",
       "      <th>atilaz_trans</th>\n",
       "      <th>tv_d_3</th>\n",
       "      <th>pesorake</th>\n",
       "    </tr>\n",
       "  </thead>\n",
       "  <tbody>\n",
       "    <tr>\n",
       "      <th>0</th>\n",
       "      <td>1</td>\n",
       "      <td>2006</td>\n",
       "      <td>7</td>\n",
       "      <td>1</td>\n",
       "      <td>37</td>\n",
       "      <td>2</td>\n",
       "      <td>2</td>\n",
       "      <td>3.0</td>\n",
       "      <td>8.0</td>\n",
       "      <td>8.0</td>\n",
       "      <td>...</td>\n",
       "      <td>NaN</td>\n",
       "      <td>NaN</td>\n",
       "      <td>NaN</td>\n",
       "      <td>1</td>\n",
       "      <td>NaN</td>\n",
       "      <td>NaN</td>\n",
       "      <td>NaN</td>\n",
       "      <td>NaN</td>\n",
       "      <td>1</td>\n",
       "      <td>586.95599</td>\n",
       "    </tr>\n",
       "    <tr>\n",
       "      <th>1</th>\n",
       "      <td>2</td>\n",
       "      <td>2006</td>\n",
       "      <td>27</td>\n",
       "      <td>1</td>\n",
       "      <td>40</td>\n",
       "      <td>2</td>\n",
       "      <td>2</td>\n",
       "      <td>4.0</td>\n",
       "      <td>3.0</td>\n",
       "      <td>11.0</td>\n",
       "      <td>...</td>\n",
       "      <td>NaN</td>\n",
       "      <td>NaN</td>\n",
       "      <td>NaN</td>\n",
       "      <td>1</td>\n",
       "      <td>NaN</td>\n",
       "      <td>NaN</td>\n",
       "      <td>NaN</td>\n",
       "      <td>NaN</td>\n",
       "      <td>1</td>\n",
       "      <td>615.21655</td>\n",
       "    </tr>\n",
       "    <tr>\n",
       "      <th>2</th>\n",
       "      <td>3</td>\n",
       "      <td>2006</td>\n",
       "      <td>10</td>\n",
       "      <td>2</td>\n",
       "      <td>64</td>\n",
       "      <td>2</td>\n",
       "      <td>2</td>\n",
       "      <td>3.0</td>\n",
       "      <td>5.0</td>\n",
       "      <td>5.0</td>\n",
       "      <td>...</td>\n",
       "      <td>NaN</td>\n",
       "      <td>NaN</td>\n",
       "      <td>NaN</td>\n",
       "      <td>0</td>\n",
       "      <td>NaN</td>\n",
       "      <td>NaN</td>\n",
       "      <td>NaN</td>\n",
       "      <td>NaN</td>\n",
       "      <td>0</td>\n",
       "      <td>593.09100</td>\n",
       "    </tr>\n",
       "    <tr>\n",
       "      <th>3</th>\n",
       "      <td>4</td>\n",
       "      <td>2006</td>\n",
       "      <td>8</td>\n",
       "      <td>1</td>\n",
       "      <td>49</td>\n",
       "      <td>1</td>\n",
       "      <td>4</td>\n",
       "      <td>7.0</td>\n",
       "      <td>3.0</td>\n",
       "      <td>14.0</td>\n",
       "      <td>...</td>\n",
       "      <td>NaN</td>\n",
       "      <td>NaN</td>\n",
       "      <td>NaN</td>\n",
       "      <td>0</td>\n",
       "      <td>NaN</td>\n",
       "      <td>NaN</td>\n",
       "      <td>NaN</td>\n",
       "      <td>NaN</td>\n",
       "      <td>0</td>\n",
       "      <td>139.26321</td>\n",
       "    </tr>\n",
       "    <tr>\n",
       "      <th>4</th>\n",
       "      <td>5</td>\n",
       "      <td>2006</td>\n",
       "      <td>7</td>\n",
       "      <td>1</td>\n",
       "      <td>29</td>\n",
       "      <td>2</td>\n",
       "      <td>1</td>\n",
       "      <td>7.0</td>\n",
       "      <td>7.0</td>\n",
       "      <td>18.0</td>\n",
       "      <td>...</td>\n",
       "      <td>NaN</td>\n",
       "      <td>NaN</td>\n",
       "      <td>NaN</td>\n",
       "      <td>0</td>\n",
       "      <td>NaN</td>\n",
       "      <td>NaN</td>\n",
       "      <td>NaN</td>\n",
       "      <td>NaN</td>\n",
       "      <td>0</td>\n",
       "      <td>565.91864</td>\n",
       "    </tr>\n",
       "  </tbody>\n",
       "</table>\n",
       "<p>5 rows × 155 columns</p>\n",
       "</div>"
      ],
      "text/plain": [
       "   ordem   ano  cidade  replica  q6  q7  civil  q8a  q8b  anoescol  ...  \\\n",
       "0      1  2006       7        1  37   2      2  3.0  8.0       8.0  ...   \n",
       "1      2  2006      27        1  40   2      2  4.0  3.0      11.0  ...   \n",
       "2      3  2006      10        2  64   2      2  3.0  5.0       5.0  ...   \n",
       "3      4  2006       8        1  49   1      4  7.0  3.0      14.0  ...   \n",
       "4      5  2006       7        1  29   2      1  7.0  7.0      18.0  ...   \n",
       "\n",
       "   ati_l  ativo_livre  ativo_livre_trans  ina_livre  inat_des_trab  \\\n",
       "0    NaN          NaN                NaN          1            NaN   \n",
       "1    NaN          NaN                NaN          1            NaN   \n",
       "2    NaN          NaN                NaN          0            NaN   \n",
       "3    NaN          NaN                NaN          0            NaN   \n",
       "4    NaN          NaN                NaN          0            NaN   \n",
       "\n",
       "   inat_des_esc  inat_desl  atilaz_trans  tv_d_3   pesorake  \n",
       "0           NaN        NaN           NaN       1  586.95599  \n",
       "1           NaN        NaN           NaN       1  615.21655  \n",
       "2           NaN        NaN           NaN       0  593.09100  \n",
       "3           NaN        NaN           NaN       0  139.26321  \n",
       "4           NaN        NaN           NaN       0  565.91864  \n",
       "\n",
       "[5 rows x 155 columns]"
      ]
     },
     "execution_count": 20,
     "metadata": {},
     "output_type": "execute_result"
    }
   ],
   "source": [
    "dataset2006.head()"
   ]
  },
  {
   "cell_type": "code",
   "execution_count": 21,
   "metadata": {},
   "outputs": [
    {
     "name": "stdout",
     "output_type": "stream",
     "text": [
      "<class 'pandas.core.frame.DataFrame'>\n",
      "RangeIndex: 54369 entries, 0 to 54368\n",
      "Columns: 155 entries, ordem to pesorake\n",
      "dtypes: float64(88), int64(67)\n",
      "memory usage: 64.3 MB\n"
     ]
    }
   ],
   "source": [
    "# mostra a quantidade de linhas e os typos dos dados contidos nas colunas\n",
    "dataset2006.info()"
   ]
  },
  {
   "cell_type": "code",
   "execution_count": 22,
   "metadata": {},
   "outputs": [
    {
     "data": {
      "text/html": [
       "<div>\n",
       "<style scoped>\n",
       "    .dataframe tbody tr th:only-of-type {\n",
       "        vertical-align: middle;\n",
       "    }\n",
       "\n",
       "    .dataframe tbody tr th {\n",
       "        vertical-align: top;\n",
       "    }\n",
       "\n",
       "    .dataframe thead th {\n",
       "        text-align: right;\n",
       "    }\n",
       "</style>\n",
       "<table border=\"1\" class=\"dataframe\">\n",
       "  <thead>\n",
       "    <tr style=\"text-align: right;\">\n",
       "      <th></th>\n",
       "      <th>ordem</th>\n",
       "      <th>ano</th>\n",
       "      <th>cidade</th>\n",
       "      <th>replica</th>\n",
       "      <th>q6</th>\n",
       "      <th>q7</th>\n",
       "      <th>civil</th>\n",
       "      <th>q8a</th>\n",
       "      <th>q8b</th>\n",
       "      <th>anoescol</th>\n",
       "      <th>...</th>\n",
       "      <th>ati_l</th>\n",
       "      <th>ativo_livre</th>\n",
       "      <th>ativo_livre_trans</th>\n",
       "      <th>ina_livre</th>\n",
       "      <th>inat_des_trab</th>\n",
       "      <th>inat_des_esc</th>\n",
       "      <th>inat_desl</th>\n",
       "      <th>atilaz_trans</th>\n",
       "      <th>tv_d_3</th>\n",
       "      <th>pesorake</th>\n",
       "    </tr>\n",
       "  </thead>\n",
       "  <tbody>\n",
       "    <tr>\n",
       "      <th>count</th>\n",
       "      <td>54369.00000</td>\n",
       "      <td>54369.000000</td>\n",
       "      <td>54369.000000</td>\n",
       "      <td>54369.000000</td>\n",
       "      <td>54369.000000</td>\n",
       "      <td>54369.000000</td>\n",
       "      <td>54369.000000</td>\n",
       "      <td>54023.000000</td>\n",
       "      <td>52589.000000</td>\n",
       "      <td>53973.000000</td>\n",
       "      <td>...</td>\n",
       "      <td>0.0</td>\n",
       "      <td>0.0</td>\n",
       "      <td>0.0</td>\n",
       "      <td>54369.000000</td>\n",
       "      <td>0.0</td>\n",
       "      <td>0.0</td>\n",
       "      <td>0.0</td>\n",
       "      <td>0.0</td>\n",
       "      <td>54369.000000</td>\n",
       "      <td>54369.000000</td>\n",
       "    </tr>\n",
       "    <tr>\n",
       "      <th>mean</th>\n",
       "      <td>27185.00000</td>\n",
       "      <td>2006.028932</td>\n",
       "      <td>13.990049</td>\n",
       "      <td>16.214221</td>\n",
       "      <td>42.118413</td>\n",
       "      <td>1.608343</td>\n",
       "      <td>1.910022</td>\n",
       "      <td>4.563945</td>\n",
       "      <td>3.630968</td>\n",
       "      <td>10.140904</td>\n",
       "      <td>...</td>\n",
       "      <td>NaN</td>\n",
       "      <td>NaN</td>\n",
       "      <td>NaN</td>\n",
       "      <td>0.527580</td>\n",
       "      <td>NaN</td>\n",
       "      <td>NaN</td>\n",
       "      <td>NaN</td>\n",
       "      <td>NaN</td>\n",
       "      <td>0.270283</td>\n",
       "      <td>552.634627</td>\n",
       "    </tr>\n",
       "    <tr>\n",
       "      <th>std</th>\n",
       "      <td>15695.12273</td>\n",
       "      <td>0.167617</td>\n",
       "      <td>7.791249</td>\n",
       "      <td>13.377647</td>\n",
       "      <td>16.469083</td>\n",
       "      <td>0.488125</td>\n",
       "      <td>0.849729</td>\n",
       "      <td>2.159699</td>\n",
       "      <td>1.813525</td>\n",
       "      <td>4.472371</td>\n",
       "      <td>...</td>\n",
       "      <td>NaN</td>\n",
       "      <td>NaN</td>\n",
       "      <td>NaN</td>\n",
       "      <td>0.499243</td>\n",
       "      <td>NaN</td>\n",
       "      <td>NaN</td>\n",
       "      <td>NaN</td>\n",
       "      <td>NaN</td>\n",
       "      <td>0.444110</td>\n",
       "      <td>986.915932</td>\n",
       "    </tr>\n",
       "    <tr>\n",
       "      <th>min</th>\n",
       "      <td>1.00000</td>\n",
       "      <td>2006.000000</td>\n",
       "      <td>1.000000</td>\n",
       "      <td>1.000000</td>\n",
       "      <td>18.000000</td>\n",
       "      <td>1.000000</td>\n",
       "      <td>1.000000</td>\n",
       "      <td>1.000000</td>\n",
       "      <td>1.000000</td>\n",
       "      <td>0.000000</td>\n",
       "      <td>...</td>\n",
       "      <td>NaN</td>\n",
       "      <td>NaN</td>\n",
       "      <td>NaN</td>\n",
       "      <td>0.000000</td>\n",
       "      <td>NaN</td>\n",
       "      <td>NaN</td>\n",
       "      <td>NaN</td>\n",
       "      <td>NaN</td>\n",
       "      <td>0.000000</td>\n",
       "      <td>3.095822</td>\n",
       "    </tr>\n",
       "    <tr>\n",
       "      <th>25%</th>\n",
       "      <td>13593.00000</td>\n",
       "      <td>2006.000000</td>\n",
       "      <td>7.000000</td>\n",
       "      <td>6.000000</td>\n",
       "      <td>29.000000</td>\n",
       "      <td>1.000000</td>\n",
       "      <td>1.000000</td>\n",
       "      <td>3.000000</td>\n",
       "      <td>3.000000</td>\n",
       "      <td>8.000000</td>\n",
       "      <td>...</td>\n",
       "      <td>NaN</td>\n",
       "      <td>NaN</td>\n",
       "      <td>NaN</td>\n",
       "      <td>0.000000</td>\n",
       "      <td>NaN</td>\n",
       "      <td>NaN</td>\n",
       "      <td>NaN</td>\n",
       "      <td>NaN</td>\n",
       "      <td>0.000000</td>\n",
       "      <td>108.107450</td>\n",
       "    </tr>\n",
       "    <tr>\n",
       "      <th>50%</th>\n",
       "      <td>27185.00000</td>\n",
       "      <td>2006.000000</td>\n",
       "      <td>14.000000</td>\n",
       "      <td>12.000000</td>\n",
       "      <td>40.000000</td>\n",
       "      <td>2.000000</td>\n",
       "      <td>2.000000</td>\n",
       "      <td>4.000000</td>\n",
       "      <td>3.000000</td>\n",
       "      <td>11.000000</td>\n",
       "      <td>...</td>\n",
       "      <td>NaN</td>\n",
       "      <td>NaN</td>\n",
       "      <td>NaN</td>\n",
       "      <td>1.000000</td>\n",
       "      <td>NaN</td>\n",
       "      <td>NaN</td>\n",
       "      <td>NaN</td>\n",
       "      <td>NaN</td>\n",
       "      <td>0.000000</td>\n",
       "      <td>244.009050</td>\n",
       "    </tr>\n",
       "    <tr>\n",
       "      <th>75%</th>\n",
       "      <td>40777.00000</td>\n",
       "      <td>2006.000000</td>\n",
       "      <td>21.000000</td>\n",
       "      <td>19.000000</td>\n",
       "      <td>53.000000</td>\n",
       "      <td>2.000000</td>\n",
       "      <td>2.000000</td>\n",
       "      <td>7.000000</td>\n",
       "      <td>4.000000</td>\n",
       "      <td>13.000000</td>\n",
       "      <td>...</td>\n",
       "      <td>NaN</td>\n",
       "      <td>NaN</td>\n",
       "      <td>NaN</td>\n",
       "      <td>1.000000</td>\n",
       "      <td>NaN</td>\n",
       "      <td>NaN</td>\n",
       "      <td>NaN</td>\n",
       "      <td>NaN</td>\n",
       "      <td>1.000000</td>\n",
       "      <td>565.043460</td>\n",
       "    </tr>\n",
       "    <tr>\n",
       "      <th>max</th>\n",
       "      <td>54369.00000</td>\n",
       "      <td>2007.000000</td>\n",
       "      <td>27.000000</td>\n",
       "      <td>47.000000</td>\n",
       "      <td>101.000000</td>\n",
       "      <td>2.000000</td>\n",
       "      <td>4.000000</td>\n",
       "      <td>10.000000</td>\n",
       "      <td>8.000000</td>\n",
       "      <td>18.000000</td>\n",
       "      <td>...</td>\n",
       "      <td>NaN</td>\n",
       "      <td>NaN</td>\n",
       "      <td>NaN</td>\n",
       "      <td>1.000000</td>\n",
       "      <td>NaN</td>\n",
       "      <td>NaN</td>\n",
       "      <td>NaN</td>\n",
       "      <td>NaN</td>\n",
       "      <td>1.000000</td>\n",
       "      <td>20668.465000</td>\n",
       "    </tr>\n",
       "  </tbody>\n",
       "</table>\n",
       "<p>8 rows × 155 columns</p>\n",
       "</div>"
      ],
      "text/plain": [
       "             ordem           ano        cidade       replica            q6  \\\n",
       "count  54369.00000  54369.000000  54369.000000  54369.000000  54369.000000   \n",
       "mean   27185.00000   2006.028932     13.990049     16.214221     42.118413   \n",
       "std    15695.12273      0.167617      7.791249     13.377647     16.469083   \n",
       "min        1.00000   2006.000000      1.000000      1.000000     18.000000   \n",
       "25%    13593.00000   2006.000000      7.000000      6.000000     29.000000   \n",
       "50%    27185.00000   2006.000000     14.000000     12.000000     40.000000   \n",
       "75%    40777.00000   2006.000000     21.000000     19.000000     53.000000   \n",
       "max    54369.00000   2007.000000     27.000000     47.000000    101.000000   \n",
       "\n",
       "                 q7         civil           q8a           q8b      anoescol  \\\n",
       "count  54369.000000  54369.000000  54023.000000  52589.000000  53973.000000   \n",
       "mean       1.608343      1.910022      4.563945      3.630968     10.140904   \n",
       "std        0.488125      0.849729      2.159699      1.813525      4.472371   \n",
       "min        1.000000      1.000000      1.000000      1.000000      0.000000   \n",
       "25%        1.000000      1.000000      3.000000      3.000000      8.000000   \n",
       "50%        2.000000      2.000000      4.000000      3.000000     11.000000   \n",
       "75%        2.000000      2.000000      7.000000      4.000000     13.000000   \n",
       "max        2.000000      4.000000     10.000000      8.000000     18.000000   \n",
       "\n",
       "       ...  ati_l  ativo_livre  ativo_livre_trans     ina_livre  \\\n",
       "count  ...    0.0          0.0                0.0  54369.000000   \n",
       "mean   ...    NaN          NaN                NaN      0.527580   \n",
       "std    ...    NaN          NaN                NaN      0.499243   \n",
       "min    ...    NaN          NaN                NaN      0.000000   \n",
       "25%    ...    NaN          NaN                NaN      0.000000   \n",
       "50%    ...    NaN          NaN                NaN      1.000000   \n",
       "75%    ...    NaN          NaN                NaN      1.000000   \n",
       "max    ...    NaN          NaN                NaN      1.000000   \n",
       "\n",
       "       inat_des_trab  inat_des_esc  inat_desl  atilaz_trans        tv_d_3  \\\n",
       "count            0.0           0.0        0.0           0.0  54369.000000   \n",
       "mean             NaN           NaN        NaN           NaN      0.270283   \n",
       "std              NaN           NaN        NaN           NaN      0.444110   \n",
       "min              NaN           NaN        NaN           NaN      0.000000   \n",
       "25%              NaN           NaN        NaN           NaN      0.000000   \n",
       "50%              NaN           NaN        NaN           NaN      0.000000   \n",
       "75%              NaN           NaN        NaN           NaN      1.000000   \n",
       "max              NaN           NaN        NaN           NaN      1.000000   \n",
       "\n",
       "           pesorake  \n",
       "count  54369.000000  \n",
       "mean     552.634627  \n",
       "std      986.915932  \n",
       "min        3.095822  \n",
       "25%      108.107450  \n",
       "50%      244.009050  \n",
       "75%      565.043460  \n",
       "max    20668.465000  \n",
       "\n",
       "[8 rows x 155 columns]"
      ]
     },
     "execution_count": 22,
     "metadata": {},
     "output_type": "execute_result"
    }
   ],
   "source": [
    "# estatísticas básicas para variáveis numéricas do data frame\n",
    "\n",
    "dataset2006.describe()"
   ]
  },
  {
   "cell_type": "code",
   "execution_count": 23,
   "metadata": {},
   "outputs": [
    {
     "data": {
      "text/plain": [
       "Index(['ordem', 'ano', 'cidade', 'replica', 'q6', 'q7', 'civil', 'q8a', 'q8b',\n",
       "       'anoescol', 'q9', 'q10', 'q11', 'q12', 'q13', 'q14', 'q14a', 'q15',\n",
       "       'q17', 'q18', 'q19', 'q20', 'q21a', 'q22', 'q23a', 'q24', 'q27', 'q28',\n",
       "       'q29', 'q30', 'q31', 'q32a', 'q33', 'q35', 'q36', 'q37a', 'q37b',\n",
       "       'q38a', 'q38b', 'q41', 'q42', 'q43', 'q43a', 'q44', 'q45', 'q46', 'q47',\n",
       "       'q48', 'q49', 'q50'],\n",
       "      dtype='object')"
      ]
     },
     "execution_count": 23,
     "metadata": {},
     "output_type": "execute_result"
    }
   ],
   "source": [
    "dataset2006.columns[0:50]"
   ]
  },
  {
   "cell_type": "code",
   "execution_count": 24,
   "metadata": {},
   "outputs": [
    {
     "data": {
      "text/plain": [
       "Index(['q51', 'q55', 'q55a', 'q56', 'q57', 'q58', 'q59', 'q60', 'q61', 'q62',\n",
       "       'q63', 'q64', 'q65', 'q66', 'q69', 'q70', 'q71', 'q73', 'q74', 'q75',\n",
       "       'q76', 'q77', 'q78', 'q85', 'q86', 'q87', 'morador', 'adultos', 'r101',\n",
       "       'r102', 'r103', 'r104', 'r105', 'r106', 'pinterno', 'fet', 'cat_esc',\n",
       "       'anoescmi', 'fesc', 'catcenso', 'razao', 'amostra', 'pesofim',\n",
       "       'fumante', 'mais20', 'iddfuma', 'exfuma', 'iddexfu', 'imc', 'excpeso'],\n",
       "      dtype='object')"
      ]
     },
     "execution_count": 24,
     "metadata": {},
     "output_type": "execute_result"
    }
   ],
   "source": [
    "dataset2006.columns[50:100]"
   ]
  },
  {
   "cell_type": "code",
   "execution_count": 25,
   "metadata": {},
   "outputs": [
    {
     "data": {
      "text/plain": [
       "Index(['obesid', 'hortareg', 'frutareg', 'flvreg', 'cruadia', 'cozidadi',\n",
       "       'hortadia', 'sofrutad', 'frutadia', 'flvdia', 'flvreco', 'carneg',\n",
       "       'franpl', 'gordura', 'leiteint', 'refri5', 'atilaz', 'atiocu',\n",
       "       'atitrans', 'atidom', 'inativo', 'alcabu', 'saruim', 'hart', 'diab',\n",
       "       'coracao', 'dislipi', 'osteo', 'pesofim1', 'peso_miss', 'q8_anos',\n",
       "       'regra_altura', 'q9_i', 'altura_miss', 'regra_peso', 'q11_i', 'imc_i',\n",
       "       'excpeso_i', 'obesid_i', 'refritl5', 'feijao5', 'af', 'freq', 'time',\n",
       "       'ati_livre', 'ati_l', 'ativo_livre', 'ativo_livre_trans', 'ina_livre',\n",
       "       'inat_des_trab', 'inat_des_esc', 'inat_desl', 'atilaz_trans', 'tv_d_3',\n",
       "       'pesorake'],\n",
       "      dtype='object')"
      ]
     },
     "execution_count": 25,
     "metadata": {},
     "output_type": "execute_result"
    }
   ],
   "source": [
    "dataset2006.columns[100:155]"
   ]
  },
  {
   "cell_type": "markdown",
   "metadata": {},
   "source": [
    "## Identificação de Variáveis Relevantes\n",
    "- Com base nas colunas listadas, podemos fazer as seguintes associações com as questões formuladas:\n"
   ]
  },
  {
   "cell_type": "markdown",
   "metadata": {},
   "source": [
    "#### Sintomas de HA:\n",
    "\n",
    "* hart (Hipertensão arterial)\n",
    "\n",
    "#### Fatores Comportamentais:\n",
    "\n",
    "* Obesidade: imc, excpeso, obesid\n",
    "\n",
    "* Tabagismo: fumante, exfuma\n",
    "\n",
    "* Álcool: alcabu\n",
    "\n",
    "* Sedentarismo: inativo, ati_livre\n",
    "\n",
    "#### Hábitos Saudáveis:\n",
    "\n",
    "* Atividades físicas: atilaz, atiocu, atitrans, atidom\n",
    "\n",
    "* Alimentação: hortareg, frutareg, flvreg, cruadia, cozidadi, hortadia, sofrutad, frutadia, flvdia, flvreco, carneg, franpl, gordura, leiteint, refri5, feijao5\n",
    "\n",
    "#### Modalidades de Atividades Físicas:\n",
    "\n",
    "* Especificação de atividades: atilaz, atiocu, atitrans, atidom, ati_livre, ativo_livre, ativo_livre_trans\n",
    "\n",
    "#### Uso de Mídias Digitais:\n",
    "\n",
    "* tv_d_3 (Assistir TV mais de 3 horas por dia)"
   ]
  },
  {
   "cell_type": "markdown",
   "metadata": {},
   "source": [
    "#### Analisando a prevalência de hipertensão arterial (hart)\n",
    "\n",
    "Vamos verificar a distribuição de hart para identificar a prevalência de hipertensão arterial em 2006."
   ]
  },
  {
   "cell_type": "code",
   "execution_count": 30,
   "metadata": {},
   "outputs": [
    {
     "data": {
      "image/png": "[encoded data removed]",
      "text/plain": [
       "<Figure size 576x432 with 1 Axes>"
      ]
     },
     "metadata": {
      "needs_background": "light"
     },
     "output_type": "display_data"
    },
    {
     "data": {
      "text/plain": [
       "0    76.173923\n",
       "1    23.826077\n",
       "Name: hart, dtype: float64"
      ]
     },
     "execution_count": 30,
     "metadata": {},
     "output_type": "execute_result"
    }
   ],
   "source": [
    "import matplotlib.pyplot as plt\n",
    "import seaborn as sns\n",
    "\n",
    "hart_distribution = dataset2006['hart'].value_counts(normalize=True)\n",
    "hart_distribution_percentage = hart_distribution * 100\n",
    "\n",
    "plt.figure(figsize=(8, 6))\n",
    "sns.barplot(x=hart_distribution_percentage.index, y=hart_distribution_percentage.values, palette='viridis')\n",
    "plt.title('Distribuição de Hipertensão Arterial (HA) - 2006')\n",
    "plt.xlabel('Hipertensão Arterial (HA)')\n",
    "plt.ylabel('Porcentagem (%)')\n",
    "plt.xticks([0, 1], ['Não', 'Sim'])\n",
    "plt.show()\n",
    "\n",
    "hart_distribution_percentage\n"
   ]
  },
  {
   "cell_type": "markdown",
   "metadata": {},
   "source": [
    "A distribuição da prevalência de hipertensão arterial em 2006 é a seguinte:\n",
    "\n",
    "Não: 76.17%\n",
    "\n",
    "Sim: 23.83%"
   ]
  },
  {
   "cell_type": "markdown",
   "metadata": {},
   "source": [
    "#### Investigando fatores comportamentais\n",
    "\n",
    "Vamos agora investigar a relação entre a hipertensão arterial (hart) e os fatores comportamentais: obesidade, tabagismo, álcool e sedentarismo.\n",
    "\n",
    "Para isso, vamos calcular a prevalência de HA entre os diferentes grupos definidos por esses fatores.\n",
    "\n"
   ]
  },
  {
   "cell_type": "code",
   "execution_count": 32,
   "metadata": {},
   "outputs": [
    {
     "data": {
      "text/plain": [
       "<Figure size 720x432 with 0 Axes>"
      ]
     },
     "metadata": {},
     "output_type": "display_data"
    },
    {
     "data": {
      "image/png": "[encoded data removed]",
      "text/plain": [
       "<Figure size 432x288 with 1 Axes>"
      ]
     },
     "metadata": {
      "needs_background": "light"
     },
     "output_type": "display_data"
    }
   ],
   "source": [
    "obesity_ha_distribution = dataset2006.groupby('obesid')['hart'].value_counts(normalize=True).unstack()\n",
    "\n",
    "plt.figure(figsize=(10, 6))\n",
    "obesity_ha_distribution.plot(kind='bar', stacked=True, colormap='viridis')\n",
    "plt.title('Prevalência de Hipertensão Arterial (HA) entre Obesos e Não Obesos - 2006')\n",
    "plt.xlabel('Obesidade')\n",
    "plt.ylabel('Proporção')\n",
    "plt.legend(title='Hipertensão Arterial (HA)', loc='best')\n",
    "plt.xticks(ticks=[0, 1], labels=['Não Obeso', 'Obeso'], rotation=0)\n",
    "plt.show()"
   ]
  },
  {
   "cell_type": "code",
   "execution_count": 34,
   "metadata": {},
   "outputs": [
    {
     "data": {
      "image/png": "[encoded data removed]",
      "text/plain": [
       "<Figure size 576x432 with 1 Axes>"
      ]
     },
     "metadata": {
      "needs_background": "light"
     },
     "output_type": "display_data"
    },
    {
     "data": {
      "text/plain": [
       "0    76.173923\n",
       "1    23.826077\n",
       "Name: hart, dtype: float64"
      ]
     },
     "execution_count": 34,
     "metadata": {},
     "output_type": "execute_result"
    }
   ],
   "source": [
    "hart_distribution = dataset2006['hart'].value_counts(normalize=True)\n",
    "hart_distribution_percentage = hart_distribution * 100\n",
    "\n",
    "plt.figure(figsize=(8, 6))\n",
    "sns.barplot(x=hart_distribution_percentage.index, y=hart_distribution_percentage.values, palette='viridis')\n",
    "plt.title('Distribuição de Hipertensão Arterial (HA) - 2006')\n",
    "plt.xlabel('Hipertensão Arterial (HA)')\n",
    "plt.ylabel('Porcentagem (%)')\n",
    "plt.xticks([0, 1], ['Não', 'Sim'])\n",
    "plt.show()\n",
    "\n",
    "hart_distribution_percentage"
   ]
  },
  {
   "cell_type": "markdown",
   "metadata": {},
   "source": [
    "A análise mostra a proporção de hipertensão arterial entre indivíduos obesos e não obesos em 2006. Observa-se que a prevalência de HA é maior entre os obesos."
   ]
  },
  {
   "cell_type": "markdown",
   "metadata": {},
   "source": [
    "#### Hábitos Saudáveis\n",
    "\n",
    "Vamos investigar se adotar hábitos saudáveis como a prática de atividades físicas e uma alimentação equilibrada contribuem positivamente para reduzir a HA.\n",
    "\n",
    "Prática de Atividades Físicas e Hipertensão Arterial\n",
    "Primeiro, vamos analisar a relação entre a prática de atividades físicas (ati_livre) e a hipertensão arterial."
   ]
  },
  {
   "cell_type": "code",
   "execution_count": 41,
   "metadata": {},
   "outputs": [
    {
     "data": {
      "text/plain": [
       "<Figure size 720x432 with 0 Axes>"
      ]
     },
     "metadata": {},
     "output_type": "display_data"
    },
    {
     "data": {
      "image/png": "[encoded data removed]",
      "text/plain": [
       "<Figure size 432x288 with 1 Axes>"
      ]
     },
     "metadata": {
      "needs_background": "light"
     },
     "output_type": "display_data"
    }
   ],
   "source": [
    "dactivity_laz_ha_distribution = dataset.groupby('atilaz')['hart'].value_counts(normalize=True).unstack()\n",
    "\n",
    "plt.figure(figsize=(10, 6))\n",
    "activity_laz_ha_distribution.plot(kind='bar', stacked=True, colormap='viridis')\n",
    "plt.title('Prevalência de Hipertensão Arterial (HA) entre Praticantes e Não Praticantes de Atividades Físicas no Lazer - 2006')\n",
    "plt.xlabel('Prática de Atividades Físicas no Lazer')\n",
    "plt.ylabel('Proporção')\n",
    "plt.legend(title='Hipertensão Arterial (HA)', loc='best')\n",
    "plt.xticks(ticks=[0, 1], labels=['Não Pratica', 'Pratica'], rotation=0)\n",
    "plt.show()"
   ]
  },
  {
   "cell_type": "markdown",
   "metadata": {},
   "source": [
    "A análise mostra a proporção de hipertensão arterial entre indivíduos que praticam e não praticam atividades físicas no lazer em 2006. Observa-se que a prevalência de HA é menor entre aqueles que praticam atividades físicas no lazer."
   ]
  },
  {
   "cell_type": "markdown",
   "metadata": {},
   "source": [
    "#### Modalidades de Atividades Físicas\n",
    "\n",
    "Para analisar se praticar determinadas modalidades de atividades físicas e com frequência mínima recomendada contribuem positivamente para reduzir a HA, vamos explorar as variáveis relacionadas a diferentes tipos de atividades físicas e sua frequência. Variáveis como atiocu (atividade física ocupacional), atitrans (atividade física de transporte), e atidom (atividade física doméstica) podem ser relevantes.\n",
    "\n",
    "Vamos verificar a relação entre hipertensão arterial e a prática de atividades físicas ocupacionais.\n",
    "\n"
   ]
  },
  {
   "cell_type": "code",
   "execution_count": 47,
   "metadata": {},
   "outputs": [
    {
     "data": {
      "text/plain": [
       "<Figure size 720x432 with 0 Axes>"
      ]
     },
     "metadata": {},
     "output_type": "display_data"
    },
    {
     "data": {
      "image/png": "[encoded data removed]",
      "text/plain": [
       "<Figure size 432x288 with 1 Axes>"
      ]
     },
     "metadata": {
      "needs_background": "light"
     },
     "output_type": "display_data"
    }
   ],
   "source": [
    "activity_ocu_ha_distribution = dataset2006.groupby('atiocu')['hart'].value_counts(normalize=True).unstack()\n",
    "\n",
    "plt.figure(figsize=(10, 6))\n",
    "activity_ocu_ha_distribution.plot(kind='bar', stacked=True, colormap='viridis')\n",
    "plt.title('Prevalência de Hipertensão Arterial (HA) entre Praticantes e Não Praticantes de Atividades Físicas Ocupacionais - 2006')\n",
    "plt.xlabel('Prática de Atividades Físicas Ocupacionais')\n",
    "plt.ylabel('Proporção')\n",
    "plt.legend(title='Hipertensão Arterial (HA)', loc='best')\n",
    "plt.xticks(ticks=[0, 1], labels=['Não Pratica', 'Pratica'], rotation=0)\n",
    "plt.show()"
   ]
  },
  {
   "cell_type": "code",
   "execution_count": 48,
   "metadata": {},
   "outputs": [
    {
     "data": {
      "text/plain": [
       "<Figure size 720x432 with 0 Axes>"
      ]
     },
     "metadata": {},
     "output_type": "display_data"
    },
    {
     "data": {
      "image/png": "[encoded data removed]",
      "text/plain": [
       "<Figure size 432x288 with 1 Axes>"
      ]
     },
     "metadata": {
      "needs_background": "light"
     },
     "output_type": "display_data"
    }
   ],
   "source": [
    "activity_laz_ha_distribution = dataset2006.groupby('atilaz')['hart'].value_counts(normalize=True).unstack()\n",
    "\n",
    "plt.figure(figsize=(10, 6))\n",
    "activity_laz_ha_distribution.plot(kind='bar', stacked=True, colormap='viridis')\n",
    "plt.title('Prevalência de Hipertensão Arterial (HA) entre Praticantes e Não Praticantes de Atividades Físicas no Lazer - 2006')\n",
    "plt.xlabel('Prática de Atividades Físicas no Lazer')\n",
    "plt.ylabel('Proporção')\n",
    "plt.legend(title='Hipertensão Arterial (HA)', loc='best')\n",
    "plt.xticks(ticks=[0, 1], labels=['Não Pratica', 'Pratica'], rotation=0)\n",
    "plt.show()"
   ]
  },
  {
   "cell_type": "markdown",
   "metadata": {},
   "source": [
    "A análise mostra a proporção de hipertensão arterial entre indivíduos que praticam e não praticam atividades físicas ocupacionais em 2006. Observa-se que a prevalência de HA é menor entre aqueles que praticam atividades físicas ocupacionais."
   ]
  },
  {
   "cell_type": "markdown",
   "metadata": {},
   "source": [
    "#### Uso de Mídias Digitais\n",
    "\n",
    "Para analisar se o uso frequente e prolongado de mídias digitais amplia a percepção de um aumento no número de casos de HA, vamos utilizar a variável tv_d_3 (Assistir TV mais de 3 horas por dia).\n"
   ]
  },
  {
   "cell_type": "code",
   "execution_count": 49,
   "metadata": {},
   "outputs": [
    {
     "data": {
      "text/plain": [
       "<Figure size 720x432 with 0 Axes>"
      ]
     },
     "metadata": {},
     "output_type": "display_data"
    },
    {
     "data": {
      "image/png": "[encoded data removed]",
      "text/plain": [
       "<Figure size 432x288 with 1 Axes>"
      ]
     },
     "metadata": {
      "needs_background": "light"
     },
     "output_type": "display_data"
    }
   ],
   "source": [
    "tv_ha_distribution = dataset2006.groupby('tv_d_3')['hart'].value_counts(normalize=True).unstack()\n",
    "\n",
    "plt.figure(figsize=(10, 6))\n",
    "tv_ha_distribution.plot(kind='bar', stacked=True, colormap='viridis')\n",
    "plt.title('Prevalência de Hipertensão Arterial (HA) entre quem assiste TV mais de 3 horas por dia - 2006')\n",
    "plt.xlabel('Assiste TV mais de 3 horas por dia')\n",
    "plt.ylabel('Proporção')\n",
    "plt.legend(title='Hipertensão Arterial (HA)', loc='best')\n",
    "plt.xticks(ticks=[0, 1], labels=['Não', 'Sim'], rotation=0)\n",
    "plt.show()"
   ]
  },
  {
   "cell_type": "code",
   "execution_count": 50,
   "metadata": {},
   "outputs": [
    {
     "data": {
      "text/plain": [
       "<Figure size 720x432 with 0 Axes>"
      ]
     },
     "metadata": {},
     "output_type": "display_data"
    },
    {
     "data": {
      "image/png": "[encoded data removed]",
      "text/plain": [
       "<Figure size 432x288 with 1 Axes>"
      ]
     },
     "metadata": {
      "needs_background": "light"
     },
     "output_type": "display_data"
    }
   ],
   "source": [
    "activity_ocu_ha_distribution = dataset2006.groupby('atiocu')['hart'].value_counts(normalize=True).unstack()\n",
    "\n",
    "plt.figure(figsize=(10, 6))\n",
    "activity_ocu_ha_distribution.plot(kind='bar', stacked=True, colormap='viridis')\n",
    "plt.title('Prevalência de Hipertensão Arterial (HA) entre Praticantes e Não Praticantes de Atividades Físicas Ocupacionais - 2006')\n",
    "plt.xlabel('Prática de Atividades Físicas Ocupacionais')\n",
    "plt.ylabel('Proporção')\n",
    "plt.legend(title='Hipertensão Arterial (HA)', loc='best')\n",
    "plt.xticks(ticks=[0, 1], labels=['Não Pratica', 'Pratica'], rotation=0)\n",
    "plt.show()"
   ]
  },
  {
   "cell_type": "markdown",
   "metadata": {},
   "source": [
    "##### As mesmas análises se aplicam a demais anos\n",
    "\n",
    "Então seguiremos para uma análise para o ano de 2023 para que possamos contrapor aos dados de coleta iniciais de 2006\n",
    "\n",
    "Dessa vez podemos tentar uma abordagem de visualização diferente dos dados com o objetivo de ter maior diversidade formas de apresentação de resultados\n",
    "\n",
    "Vamos para isso usar uma matriz de correlação. Lembrando que valores próximos de 1 ou -1 indicam uma correlação forte, enquanto valores próximos de 0 indicam pouca ou nenhuma correlação."
   ]
  },
  {
   "cell_type": "code",
   "execution_count": 52,
   "metadata": {},
   "outputs": [],
   "source": [
    "dataset2023 = pd.read_excel('./data/Vigitel-2023-peso-rake.xlsx')"
   ]
  },
  {
   "cell_type": "code",
   "execution_count": 55,
   "metadata": {},
   "outputs": [
    {
     "data": {
      "text/html": [
       "<div>\n",
       "<style scoped>\n",
       "    .dataframe tbody tr th:only-of-type {\n",
       "        vertical-align: middle;\n",
       "    }\n",
       "\n",
       "    .dataframe tbody tr th {\n",
       "        vertical-align: top;\n",
       "    }\n",
       "\n",
       "    .dataframe thead th {\n",
       "        text-align: right;\n",
       "    }\n",
       "</style>\n",
       "<table border=\"1\" class=\"dataframe\">\n",
       "  <thead>\n",
       "    <tr style=\"text-align: right;\">\n",
       "      <th></th>\n",
       "      <th>chave</th>\n",
       "      <th>tipo_fone</th>\n",
       "      <th>replica</th>\n",
       "      <th>cidade</th>\n",
       "      <th>ano</th>\n",
       "      <th>q6</th>\n",
       "      <th>q7</th>\n",
       "      <th>q8a</th>\n",
       "      <th>q8b</th>\n",
       "      <th>q9</th>\n",
       "      <th>...</th>\n",
       "      <th>depressao</th>\n",
       "      <th>ind_med_has</th>\n",
       "      <th>med_has</th>\n",
       "      <th>trat_med_has</th>\n",
       "      <th>ind_med_db</th>\n",
       "      <th>med_db</th>\n",
       "      <th>insulina</th>\n",
       "      <th>trat_med_db</th>\n",
       "      <th>ind_med_depr</th>\n",
       "      <th>trat_med_depr</th>\n",
       "    </tr>\n",
       "  </thead>\n",
       "  <tbody>\n",
       "    <tr>\n",
       "      <th>0</th>\n",
       "      <td>159775260937</td>\n",
       "      <td>CELULAR</td>\n",
       "      <td>12</td>\n",
       "      <td>5</td>\n",
       "      <td>2023</td>\n",
       "      <td>18</td>\n",
       "      <td>1</td>\n",
       "      <td>5</td>\n",
       "      <td>2.0</td>\n",
       "      <td>62</td>\n",
       "      <td>...</td>\n",
       "      <td>0</td>\n",
       "      <td>NaN</td>\n",
       "      <td>NaN</td>\n",
       "      <td>NaN</td>\n",
       "      <td>NaN</td>\n",
       "      <td>NaN</td>\n",
       "      <td>NaN</td>\n",
       "      <td>NaN</td>\n",
       "      <td>NaN</td>\n",
       "      <td>NaN</td>\n",
       "    </tr>\n",
       "    <tr>\n",
       "      <th>1</th>\n",
       "      <td>459610290826</td>\n",
       "      <td>CELULAR</td>\n",
       "      <td>18</td>\n",
       "      <td>12</td>\n",
       "      <td>2023</td>\n",
       "      <td>23</td>\n",
       "      <td>1</td>\n",
       "      <td>5</td>\n",
       "      <td>2.0</td>\n",
       "      <td>96</td>\n",
       "      <td>...</td>\n",
       "      <td>0</td>\n",
       "      <td>NaN</td>\n",
       "      <td>NaN</td>\n",
       "      <td>NaN</td>\n",
       "      <td>NaN</td>\n",
       "      <td>NaN</td>\n",
       "      <td>NaN</td>\n",
       "      <td>NaN</td>\n",
       "      <td>NaN</td>\n",
       "      <td>NaN</td>\n",
       "    </tr>\n",
       "    <tr>\n",
       "      <th>2</th>\n",
       "      <td>439521590847</td>\n",
       "      <td>CELULAR</td>\n",
       "      <td>5</td>\n",
       "      <td>4</td>\n",
       "      <td>2023</td>\n",
       "      <td>32</td>\n",
       "      <td>1</td>\n",
       "      <td>4</td>\n",
       "      <td>8.0</td>\n",
       "      <td>93</td>\n",
       "      <td>...</td>\n",
       "      <td>0</td>\n",
       "      <td>NaN</td>\n",
       "      <td>NaN</td>\n",
       "      <td>NaN</td>\n",
       "      <td>NaN</td>\n",
       "      <td>NaN</td>\n",
       "      <td>NaN</td>\n",
       "      <td>NaN</td>\n",
       "      <td>NaN</td>\n",
       "      <td>NaN</td>\n",
       "    </tr>\n",
       "    <tr>\n",
       "      <th>3</th>\n",
       "      <td>119768260943</td>\n",
       "      <td>CELULAR</td>\n",
       "      <td>15</td>\n",
       "      <td>5</td>\n",
       "      <td>2023</td>\n",
       "      <td>38</td>\n",
       "      <td>1</td>\n",
       "      <td>8</td>\n",
       "      <td>NaN</td>\n",
       "      <td>777</td>\n",
       "      <td>...</td>\n",
       "      <td>0</td>\n",
       "      <td>NaN</td>\n",
       "      <td>NaN</td>\n",
       "      <td>NaN</td>\n",
       "      <td>NaN</td>\n",
       "      <td>NaN</td>\n",
       "      <td>NaN</td>\n",
       "      <td>NaN</td>\n",
       "      <td>NaN</td>\n",
       "      <td>NaN</td>\n",
       "    </tr>\n",
       "    <tr>\n",
       "      <th>4</th>\n",
       "      <td>349242860840</td>\n",
       "      <td>CELULAR</td>\n",
       "      <td>17</td>\n",
       "      <td>10</td>\n",
       "      <td>2023</td>\n",
       "      <td>42</td>\n",
       "      <td>1</td>\n",
       "      <td>4</td>\n",
       "      <td>8.0</td>\n",
       "      <td>89</td>\n",
       "      <td>...</td>\n",
       "      <td>0</td>\n",
       "      <td>NaN</td>\n",
       "      <td>NaN</td>\n",
       "      <td>NaN</td>\n",
       "      <td>NaN</td>\n",
       "      <td>NaN</td>\n",
       "      <td>NaN</td>\n",
       "      <td>NaN</td>\n",
       "      <td>NaN</td>\n",
       "      <td>NaN</td>\n",
       "    </tr>\n",
       "  </tbody>\n",
       "</table>\n",
       "<p>5 rows × 233 columns</p>\n",
       "</div>"
      ],
      "text/plain": [
       "          chave tipo_fone  replica  cidade   ano  q6  q7  q8a  q8b   q9  ...  \\\n",
       "0  159775260937   CELULAR       12       5  2023  18   1    5  2.0   62  ...   \n",
       "1  459610290826   CELULAR       18      12  2023  23   1    5  2.0   96  ...   \n",
       "2  439521590847   CELULAR        5       4  2023  32   1    4  8.0   93  ...   \n",
       "3  119768260943   CELULAR       15       5  2023  38   1    8  NaN  777  ...   \n",
       "4  349242860840   CELULAR       17      10  2023  42   1    4  8.0   89  ...   \n",
       "\n",
       "   depressao  ind_med_has  med_has  trat_med_has  ind_med_db  med_db  \\\n",
       "0          0          NaN      NaN           NaN         NaN     NaN   \n",
       "1          0          NaN      NaN           NaN         NaN     NaN   \n",
       "2          0          NaN      NaN           NaN         NaN     NaN   \n",
       "3          0          NaN      NaN           NaN         NaN     NaN   \n",
       "4          0          NaN      NaN           NaN         NaN     NaN   \n",
       "\n",
       "   insulina  trat_med_db  ind_med_depr  trat_med_depr  \n",
       "0       NaN          NaN           NaN            NaN  \n",
       "1       NaN          NaN           NaN            NaN  \n",
       "2       NaN          NaN           NaN            NaN  \n",
       "3       NaN          NaN           NaN            NaN  \n",
       "4       NaN          NaN           NaN            NaN  \n",
       "\n",
       "[5 rows x 233 columns]"
      ]
     },
     "execution_count": 55,
     "metadata": {},
     "output_type": "execute_result"
    }
   ],
   "source": [
    "dataset2023.head() # existem diferenças nas nomenclaturas das colunas "
   ]
  },
  {
   "cell_type": "code",
   "execution_count": 56,
   "metadata": {},
   "outputs": [
    {
     "name": "stdout",
     "output_type": "stream",
     "text": [
      "<class 'pandas.core.frame.DataFrame'>\n",
      "RangeIndex: 21690 entries, 0 to 21689\n",
      "Columns: 233 entries, chave to trat_med_depr\n",
      "dtypes: float64(113), int64(114), object(6)\n",
      "memory usage: 38.6+ MB\n"
     ]
    }
   ],
   "source": [
    "dataset2023.info() #233 entries na coleta mais recente"
   ]
  },
  {
   "cell_type": "code",
   "execution_count": 57,
   "metadata": {},
   "outputs": [
    {
     "data": {
      "text/html": [
       "<div>\n",
       "<style scoped>\n",
       "    .dataframe tbody tr th:only-of-type {\n",
       "        vertical-align: middle;\n",
       "    }\n",
       "\n",
       "    .dataframe tbody tr th {\n",
       "        vertical-align: top;\n",
       "    }\n",
       "\n",
       "    .dataframe thead th {\n",
       "        text-align: right;\n",
       "    }\n",
       "</style>\n",
       "<table border=\"1\" class=\"dataframe\">\n",
       "  <thead>\n",
       "    <tr style=\"text-align: right;\">\n",
       "      <th></th>\n",
       "      <th>chave</th>\n",
       "      <th>replica</th>\n",
       "      <th>cidade</th>\n",
       "      <th>ano</th>\n",
       "      <th>q6</th>\n",
       "      <th>q7</th>\n",
       "      <th>q8a</th>\n",
       "      <th>q8b</th>\n",
       "      <th>q9</th>\n",
       "      <th>q11</th>\n",
       "      <th>...</th>\n",
       "      <th>depressao</th>\n",
       "      <th>ind_med_has</th>\n",
       "      <th>med_has</th>\n",
       "      <th>trat_med_has</th>\n",
       "      <th>ind_med_db</th>\n",
       "      <th>med_db</th>\n",
       "      <th>insulina</th>\n",
       "      <th>trat_med_db</th>\n",
       "      <th>ind_med_depr</th>\n",
       "      <th>trat_med_depr</th>\n",
       "    </tr>\n",
       "  </thead>\n",
       "  <tbody>\n",
       "    <tr>\n",
       "      <th>count</th>\n",
       "      <td>2.169000e+04</td>\n",
       "      <td>21690.000000</td>\n",
       "      <td>21690.000000</td>\n",
       "      <td>21690.0</td>\n",
       "      <td>21690.000000</td>\n",
       "      <td>21690.000000</td>\n",
       "      <td>21690.000000</td>\n",
       "      <td>21272.000000</td>\n",
       "      <td>21690.000000</td>\n",
       "      <td>21690.000000</td>\n",
       "      <td>...</td>\n",
       "      <td>21690.000000</td>\n",
       "      <td>7405.000000</td>\n",
       "      <td>7405.000000</td>\n",
       "      <td>7405.000000</td>\n",
       "      <td>2826.000000</td>\n",
       "      <td>2826.000000</td>\n",
       "      <td>2826.000000</td>\n",
       "      <td>2826.000000</td>\n",
       "      <td>2972.000000</td>\n",
       "      <td>2972.000000</td>\n",
       "    </tr>\n",
       "    <tr>\n",
       "      <th>mean</th>\n",
       "      <td>2.841828e+11</td>\n",
       "      <td>19.667404</td>\n",
       "      <td>14.003181</td>\n",
       "      <td>2023.0</td>\n",
       "      <td>49.669617</td>\n",
       "      <td>1.625081</td>\n",
       "      <td>9.266943</td>\n",
       "      <td>3.596183</td>\n",
       "      <td>99.951683</td>\n",
       "      <td>197.024620</td>\n",
       "      <td>...</td>\n",
       "      <td>0.137022</td>\n",
       "      <td>0.924105</td>\n",
       "      <td>0.845375</td>\n",
       "      <td>0.840918</td>\n",
       "      <td>0.911890</td>\n",
       "      <td>0.819179</td>\n",
       "      <td>0.199575</td>\n",
       "      <td>0.857042</td>\n",
       "      <td>0.861709</td>\n",
       "      <td>0.495626</td>\n",
       "    </tr>\n",
       "    <tr>\n",
       "      <th>std</th>\n",
       "      <td>3.225600e+11</td>\n",
       "      <td>22.188005</td>\n",
       "      <td>7.798268</td>\n",
       "      <td>0.0</td>\n",
       "      <td>17.827901</td>\n",
       "      <td>0.484113</td>\n",
       "      <td>59.051148</td>\n",
       "      <td>1.881862</td>\n",
       "      <td>136.367189</td>\n",
       "      <td>138.043489</td>\n",
       "      <td>...</td>\n",
       "      <td>0.343878</td>\n",
       "      <td>0.264847</td>\n",
       "      <td>0.361571</td>\n",
       "      <td>0.365777</td>\n",
       "      <td>0.283506</td>\n",
       "      <td>0.384938</td>\n",
       "      <td>0.399752</td>\n",
       "      <td>0.350092</td>\n",
       "      <td>0.345263</td>\n",
       "      <td>0.500065</td>\n",
       "    </tr>\n",
       "    <tr>\n",
       "      <th>min</th>\n",
       "      <td>2.104521e+08</td>\n",
       "      <td>1.000000</td>\n",
       "      <td>1.000000</td>\n",
       "      <td>2023.0</td>\n",
       "      <td>18.000000</td>\n",
       "      <td>1.000000</td>\n",
       "      <td>1.000000</td>\n",
       "      <td>1.000000</td>\n",
       "      <td>30.000000</td>\n",
       "      <td>120.000000</td>\n",
       "      <td>...</td>\n",
       "      <td>0.000000</td>\n",
       "      <td>0.000000</td>\n",
       "      <td>0.000000</td>\n",
       "      <td>0.000000</td>\n",
       "      <td>0.000000</td>\n",
       "      <td>0.000000</td>\n",
       "      <td>0.000000</td>\n",
       "      <td>0.000000</td>\n",
       "      <td>0.000000</td>\n",
       "      <td>0.000000</td>\n",
       "    </tr>\n",
       "    <tr>\n",
       "      <th>25%</th>\n",
       "      <td>3.137964e+10</td>\n",
       "      <td>5.000000</td>\n",
       "      <td>7.000000</td>\n",
       "      <td>2023.0</td>\n",
       "      <td>35.000000</td>\n",
       "      <td>1.000000</td>\n",
       "      <td>5.000000</td>\n",
       "      <td>3.000000</td>\n",
       "      <td>62.000000</td>\n",
       "      <td>158.000000</td>\n",
       "      <td>...</td>\n",
       "      <td>0.000000</td>\n",
       "      <td>1.000000</td>\n",
       "      <td>1.000000</td>\n",
       "      <td>1.000000</td>\n",
       "      <td>1.000000</td>\n",
       "      <td>1.000000</td>\n",
       "      <td>0.000000</td>\n",
       "      <td>1.000000</td>\n",
       "      <td>1.000000</td>\n",
       "      <td>0.000000</td>\n",
       "    </tr>\n",
       "    <tr>\n",
       "      <th>50%</th>\n",
       "      <td>9.635723e+10</td>\n",
       "      <td>12.000000</td>\n",
       "      <td>14.000000</td>\n",
       "      <td>2023.0</td>\n",
       "      <td>49.000000</td>\n",
       "      <td>2.000000</td>\n",
       "      <td>5.000000</td>\n",
       "      <td>3.000000</td>\n",
       "      <td>72.000000</td>\n",
       "      <td>165.000000</td>\n",
       "      <td>...</td>\n",
       "      <td>0.000000</td>\n",
       "      <td>1.000000</td>\n",
       "      <td>1.000000</td>\n",
       "      <td>1.000000</td>\n",
       "      <td>1.000000</td>\n",
       "      <td>1.000000</td>\n",
       "      <td>0.000000</td>\n",
       "      <td>1.000000</td>\n",
       "      <td>1.000000</td>\n",
       "      <td>0.000000</td>\n",
       "    </tr>\n",
       "    <tr>\n",
       "      <th>75%</th>\n",
       "      <td>4.991124e+11</td>\n",
       "      <td>27.000000</td>\n",
       "      <td>21.000000</td>\n",
       "      <td>2023.0</td>\n",
       "      <td>64.000000</td>\n",
       "      <td>2.000000</td>\n",
       "      <td>6.000000</td>\n",
       "      <td>4.000000</td>\n",
       "      <td>84.000000</td>\n",
       "      <td>173.000000</td>\n",
       "      <td>...</td>\n",
       "      <td>0.000000</td>\n",
       "      <td>1.000000</td>\n",
       "      <td>1.000000</td>\n",
       "      <td>1.000000</td>\n",
       "      <td>1.000000</td>\n",
       "      <td>1.000000</td>\n",
       "      <td>0.000000</td>\n",
       "      <td>1.000000</td>\n",
       "      <td>1.000000</td>\n",
       "      <td>1.000000</td>\n",
       "    </tr>\n",
       "    <tr>\n",
       "      <th>max</th>\n",
       "      <td>9.999939e+11</td>\n",
       "      <td>157.000000</td>\n",
       "      <td>27.000000</td>\n",
       "      <td>2023.0</td>\n",
       "      <td>109.000000</td>\n",
       "      <td>2.000000</td>\n",
       "      <td>888.000000</td>\n",
       "      <td>8.000000</td>\n",
       "      <td>888.000000</td>\n",
       "      <td>888.000000</td>\n",
       "      <td>...</td>\n",
       "      <td>1.000000</td>\n",
       "      <td>1.000000</td>\n",
       "      <td>1.000000</td>\n",
       "      <td>1.000000</td>\n",
       "      <td>1.000000</td>\n",
       "      <td>1.000000</td>\n",
       "      <td>1.000000</td>\n",
       "      <td>1.000000</td>\n",
       "      <td>1.000000</td>\n",
       "      <td>1.000000</td>\n",
       "    </tr>\n",
       "  </tbody>\n",
       "</table>\n",
       "<p>8 rows × 227 columns</p>\n",
       "</div>"
      ],
      "text/plain": [
       "              chave       replica        cidade      ano            q6  \\\n",
       "count  2.169000e+04  21690.000000  21690.000000  21690.0  21690.000000   \n",
       "mean   2.841828e+11     19.667404     14.003181   2023.0     49.669617   \n",
       "std    3.225600e+11     22.188005      7.798268      0.0     17.827901   \n",
       "min    2.104521e+08      1.000000      1.000000   2023.0     18.000000   \n",
       "25%    3.137964e+10      5.000000      7.000000   2023.0     35.000000   \n",
       "50%    9.635723e+10     12.000000     14.000000   2023.0     49.000000   \n",
       "75%    4.991124e+11     27.000000     21.000000   2023.0     64.000000   \n",
       "max    9.999939e+11    157.000000     27.000000   2023.0    109.000000   \n",
       "\n",
       "                 q7           q8a           q8b            q9           q11  \\\n",
       "count  21690.000000  21690.000000  21272.000000  21690.000000  21690.000000   \n",
       "mean       1.625081      9.266943      3.596183     99.951683    197.024620   \n",
       "std        0.484113     59.051148      1.881862    136.367189    138.043489   \n",
       "min        1.000000      1.000000      1.000000     30.000000    120.000000   \n",
       "25%        1.000000      5.000000      3.000000     62.000000    158.000000   \n",
       "50%        2.000000      5.000000      3.000000     72.000000    165.000000   \n",
       "75%        2.000000      6.000000      4.000000     84.000000    173.000000   \n",
       "max        2.000000    888.000000      8.000000    888.000000    888.000000   \n",
       "\n",
       "       ...     depressao  ind_med_has      med_has  trat_med_has   ind_med_db  \\\n",
       "count  ...  21690.000000  7405.000000  7405.000000   7405.000000  2826.000000   \n",
       "mean   ...      0.137022     0.924105     0.845375      0.840918     0.911890   \n",
       "std    ...      0.343878     0.264847     0.361571      0.365777     0.283506   \n",
       "min    ...      0.000000     0.000000     0.000000      0.000000     0.000000   \n",
       "25%    ...      0.000000     1.000000     1.000000      1.000000     1.000000   \n",
       "50%    ...      0.000000     1.000000     1.000000      1.000000     1.000000   \n",
       "75%    ...      0.000000     1.000000     1.000000      1.000000     1.000000   \n",
       "max    ...      1.000000     1.000000     1.000000      1.000000     1.000000   \n",
       "\n",
       "            med_db     insulina  trat_med_db  ind_med_depr  trat_med_depr  \n",
       "count  2826.000000  2826.000000  2826.000000   2972.000000    2972.000000  \n",
       "mean      0.819179     0.199575     0.857042      0.861709       0.495626  \n",
       "std       0.384938     0.399752     0.350092      0.345263       0.500065  \n",
       "min       0.000000     0.000000     0.000000      0.000000       0.000000  \n",
       "25%       1.000000     0.000000     1.000000      1.000000       0.000000  \n",
       "50%       1.000000     0.000000     1.000000      1.000000       0.000000  \n",
       "75%       1.000000     0.000000     1.000000      1.000000       1.000000  \n",
       "max       1.000000     1.000000     1.000000      1.000000       1.000000  \n",
       "\n",
       "[8 rows x 227 columns]"
      ]
     },
     "execution_count": 57,
     "metadata": {},
     "output_type": "execute_result"
    }
   ],
   "source": [
    "dataset2023.describe()"
   ]
  },
  {
   "cell_type": "code",
   "execution_count": 58,
   "metadata": {},
   "outputs": [
    {
     "data": {
      "text/plain": [
       "Index(['chave', 'tipo_fone', 'replica', 'cidade', 'ano', 'q6', 'q7', 'q8a',\n",
       "       'q8b', 'q9', 'q11', 'q12', 'q13', 'q14', 'r190', 'r128a', 'q15', 'q16',\n",
       "       'q17', 'q18', 'q19', 'q20', 'q25', 'q26', 'q27', 'q28', 'q29', 'q30',\n",
       "       'q31', 'r301_a', 'r301_b', 'r301_c', 'r301_d', 'r301_e', 'r301_f',\n",
       "       'r301_g', 'r301_h', 'r301_i', 'r301_j', 'r301_k', 'r301_l', 'r302_a',\n",
       "       'r302_b', 'r302_c', 'r302_d', 'r302_e', 'r302_f', 'r302_g', 'r302_h',\n",
       "       'r302_i'],\n",
       "      dtype='object')"
      ]
     },
     "execution_count": 58,
     "metadata": {},
     "output_type": "execute_result"
    }
   ],
   "source": [
    "dataset2023.columns[0:50]"
   ]
  },
  {
   "cell_type": "code",
   "execution_count": 59,
   "metadata": {},
   "outputs": [
    {
     "data": {
      "text/plain": [
       "Index(['r302_j', 'r302_k', 'r302_l', 'r302_m', 'q35', 'q36', 'q37', 'q38',\n",
       "       'q40', 'q40b', 'q42', 'q43a', 'q43a_ou', 'q44', 'q45', 'q46', 'q47',\n",
       "       'q48', 'q49', 'r147', 'r148_hh', 'r148_mm', 'q50', 'q51', 'q52', 'q53',\n",
       "       'q54', 'q55', 'q56', 'r149', 'r150_hh', 'r150_mm', 'q59a', 'q59b',\n",
       "       'q59c', 'q60', 'q61', 'q61_fx', 'q64', 'q67', 'q68', 'r157', 'r401',\n",
       "       'r401a_1', 'r401b_1', 'r401b_2', 'r401c_1', 'r401c_2', 'r401c_3',\n",
       "       'r402'],\n",
       "      dtype='object')"
      ]
     },
     "execution_count": 59,
     "metadata": {},
     "output_type": "execute_result"
    }
   ],
   "source": [
    "dataset2023.columns[50:100]"
   ]
  },
  {
   "cell_type": "code",
   "execution_count": 60,
   "metadata": {},
   "outputs": [
    {
     "data": {
      "text/plain": [
       "Index(['r404', 'r404_ou', 'r403', 'q74', 'q75', 'r203', 'r129', 'q76', 'r204',\n",
       "       'r133a', 'r133b', 'r205', 'r206', 'r207', 'q79a', 'q80', 'q81', 'q82',\n",
       "       'r501', 'r502', 'r503', 'r504', 'r505_1', 'r505_2', 'r505_3', 'r505_4',\n",
       "       'r505_5', 'r505_90', 'r505_ou', 'r506', 'r506_ou', 'q88', 'q69',\n",
       "       'q69_ou', 'civil', 'q70', 'q71', 'r135', 'r178', 'moradores', 'adultos',\n",
       "       'fet', 'q8_anos', 'fesc', 'pinterno', 'pesorake', 'pesorake_fixo',\n",
       "       'pesorake_celular', 'q9_i', 'q11_i'],\n",
       "      dtype='object')"
      ]
     },
     "execution_count": 60,
     "metadata": {},
     "output_type": "execute_result"
    }
   ],
   "source": [
    "dataset2023.columns[100:150]"
   ]
  },
  {
   "cell_type": "code",
   "execution_count": 61,
   "metadata": {},
   "outputs": [
    {
     "data": {
      "text/plain": [
       "Index(['fumante', 'exfuma', 'mais20', 'eletronico', 'fumocasa', 'fumotrab',\n",
       "       'imc', 'imc_i', 'excpeso', 'excpeso_i', 'obesid', 'obesid_i',\n",
       "       'hortareg', 'frutareg', 'flvreg', 'cruadia', 'cozidadia', 'hortadia',\n",
       "       'sucodia', 'sofrutadia', 'frutadia', 'flvdia', 'flvreco', 'refritl5',\n",
       "       'feijao5', 'score_sf', 'score_sf_2cat', 'score_upp', 'score_upp_2cat',\n",
       "       'af', 'freq', 'time', 'ati_livre', 'ativo_livre', 'atitrans', 'atidom',\n",
       "       'atiocu', 'inativo', 'q51medio', 'q54medio', 'deslocdia',\n",
       "       'deslocsemana', 'atiocusemana', 'faxinasemana', 'af3dominios',\n",
       "       'af3dominios_insu', 'tv_d_3', 'tempo_tela_stv', 'q59a_horas',\n",
       "       'q59c_horas', 'tempo_tela_total', 'time_2023', 'ati_livre_2023',\n",
       "       'inativo_2023', 'q51medio_2023', 'q54medio_2023', 'deslocdia_2023',\n",
       "       'deslocsemana_2023', 'af3dominios_2023', 'af3dominios_insu_2023',\n",
       "       'alcabu', 'direcao', 'direcao_alc', 'saruim', 'iddmamo', 'mamo',\n",
       "       'mamodois', 'iddpapa_old', 'iddpapa', 'papa', 'papatres', 'hart',\n",
       "       'diab', 'depressao', 'ind_med_has', 'med_has', 'trat_med_has',\n",
       "       'ind_med_db', 'med_db', 'insulina', 'trat_med_db', 'ind_med_depr',\n",
       "       'trat_med_depr'],\n",
       "      dtype='object')"
      ]
     },
     "execution_count": 61,
     "metadata": {},
     "output_type": "execute_result"
    }
   ],
   "source": [
    "dataset2023.columns[150:233]"
   ]
  },
  {
   "cell_type": "markdown",
   "metadata": {},
   "source": [
    "#### Vamos verificar se houve um aumento no número de pessoas que apresentaram sintomas de HA ao longo dos anos.\n",
    "\n",
    "Primeiro, vamos criar uma tabela agregada por ano para verificar a tendência de HA ao longo do tempo."
   ]
  },
  {
   "cell_type": "code",
   "execution_count": 63,
   "metadata": {},
   "outputs": [
    {
     "data": {
      "image/png": "[encoded data removed]",
      "text/plain": [
       "<Figure size 720x432 with 1 Axes>"
      ]
     },
     "metadata": {
      "needs_background": "light"
     },
     "output_type": "display_data"
    }
   ],
   "source": [
    "ha_columns = ['ano', 'ind_med_has', 'med_has', 'trat_med_has']\n",
    "ha_data = dataset2023[ha_columns]\n",
    "ha_trend = ha_data.groupby('ano').sum()\n",
    "ha_trend_percentage = ha_trend.div(ha_data.groupby('ano').size(), axis=0) * 100\n",
    "\n",
    "plt.figure(figsize=(10, 6))\n",
    "plt.plot(ha_trend_percentage, marker='o')\n",
    "plt.title('Tendência de Hipertensão Arterial ao longo dos anos')\n",
    "plt.xlabel('Ano')\n",
    "plt.ylabel('Percentual de casos de HA (%)')\n",
    "plt.legend(['Indicação médica de HA', 'Medicação para HA', 'Tratamento médico para HA'])\n",
    "plt.grid(True)\n",
    "plt.show()"
   ]
  },
  {
   "cell_type": "code",
   "execution_count": 64,
   "metadata": {},
   "outputs": [],
   "source": [
    "#### Investigar se a obesidade, o tabagismo, o álcool e o sedentarismo são fatores que indicam um aumento da propensão de pessoas com HA"
   ]
  },
  {
   "cell_type": "code",
   "execution_count": 66,
   "metadata": {},
   "outputs": [
    {
     "data": {
      "image/png": "[encoded data removed]",
      "text/plain": [
       "<Figure size 720x576 with 2 Axes>"
      ]
     },
     "metadata": {
      "needs_background": "light"
     },
     "output_type": "display_data"
    }
   ],
   "source": [
    "behavior_columns = ['ind_med_has', 'med_has', 'trat_med_has', 'imc', 'obesid', 'fumante', 'exfuma', 'alcabu', 'inativo']\n",
    "behavior_data = dataset2023[behavior_columns]\n",
    "\n",
    "correlations = behavior_data.corr()\n",
    "\n",
    "plt.figure(figsize=(10, 8))\n",
    "sns.heatmap(correlations, annot=True, cmap='coolwarm', vmin=-1, vmax=1)\n",
    "plt.title('Matriz de Correlação entre Fatores Comportamentais e HA')\n",
    "plt.show()"
   ]
  },
  {
   "cell_type": "markdown",
   "metadata": {},
   "source": [
    "* Obesidade (imc, obesid): Parece haver uma correlação positiva moderada a forte entre obesidade e hipertensão, sugerindo que pessoas com maior IMC ou obesidade têm maior propensão a ter HA.\n",
    "\n",
    "* Tabagismo (fumante, exfuma): A correlação entre tabagismo e HA é menos clara, mas ainda assim, há alguma indicação de que fumar ou ter fumado no passado pode estar associado a HA.\n",
    "\n",
    "* Álcool (alcabu): A correlação entre consumo abusivo de álcool e HA não é muito forte, mas ainda assim, um consumo abusivo pode estar relacionado a um aumento na propensão à HA.\n",
    "\n",
    "* Sedentarismo (inativo): Existe uma correlação positiva entre inatividade física e HA, indicando que a falta de atividade física pode ser um fator de risco para HA."
   ]
  },
  {
   "cell_type": "markdown",
   "metadata": {},
   "source": [
    "#### Prática de atividades físicas e alimentação"
   ]
  },
  {
   "cell_type": "code",
   "execution_count": 67,
   "metadata": {},
   "outputs": [
    {
     "data": {
      "image/png": "[encoded data removed]",
      "text/plain": [
       "<Figure size 720x576 with 2 Axes>"
      ]
     },
     "metadata": {
      "needs_background": "light"
     },
     "output_type": "display_data"
    }
   ],
   "source": [
    "healthy_habits_columns = ['ind_med_has', 'med_has', 'trat_med_has', 'af', 'ati_livre', 'hortareg', 'frutareg', 'flvreg']\n",
    "healthy_habits_data = dataset2023[healthy_habits_columns]\n",
    "healthy_habits_correlations = healthy_habits_data.corr()\n",
    "\n",
    "plt.figure(figsize=(10, 8))\n",
    "sns.heatmap(healthy_habits_correlations, annot=True, cmap='coolwarm', vmin=-1, vmax=1)\n",
    "plt.title('Matriz de Correlação entre Hábitos Saudáveis e HA')\n",
    "plt.show()"
   ]
  },
  {
   "cell_type": "markdown",
   "metadata": {},
   "source": [
    "#### A matriz de correlação mostra a relação entre hábitos saudáveis (prática de atividades físicas e alimentação) e indicadores de hipertensão arterial (HA).\n",
    "\n",
    "* Prática de Atividades Físicas (af, ati_livre): Há uma correlação negativa moderada entre a prática de atividades físicas e os indicadores de HA. Isso sugere que a prática de atividades físicas pode estar associada a uma menor propensão a ter HA.\n",
    "\n",
    "* Alimentação (hortareg, frutareg, flvreg): As correlações entre alimentação saudável e HA são variáveis, mas em geral, consumir frutas e vegetais regularmente parece estar relacionado a uma menor propensão a HA.\n",
    "\n"
   ]
  },
  {
   "cell_type": "markdown",
   "metadata": {},
   "source": [
    "> Atividades físicas: Praticar atividades físicas, especialmente no tempo livre, parece contribuir para a redução da propensão a HA.\n",
    "\n",
    "> Alimentação saudável: Consumir regularmente frutas, vegetais e alimentos naturais está associado a uma menor prevalência de HA."
   ]
  },
  {
   "cell_type": "markdown",
   "metadata": {},
   "source": [
    "#### Uso de mídias digitais e sedentarismo"
   ]
  },
  {
   "cell_type": "code",
   "execution_count": 68,
   "metadata": {},
   "outputs": [
    {
     "data": {
      "image/png": "[encoded data removed]",
      "text/plain": [
       "<Figure size 576x432 with 2 Axes>"
      ]
     },
     "metadata": {
      "needs_background": "light"
     },
     "output_type": "display_data"
    }
   ],
   "source": [
    "tech_columns = ['ind_med_has', 'med_has', 'trat_med_has', 'tempo_tela_total', 'inativo']\n",
    "tech_data = dataset2023[tech_columns]\n",
    "tech_correlations = tech_data.corr()\n",
    "\n",
    "plt.figure(figsize=(8, 6))\n",
    "sns.heatmap(tech_correlations, annot=True, cmap='coolwarm', vmin=-1, vmax=1)\n",
    "plt.title('Matriz de Correlação entre Uso de Mídias Digitais e Sedentarismo com HA')\n",
    "plt.show()"
   ]
  },
  {
   "cell_type": "markdown",
   "metadata": {},
   "source": [
    "#### A matriz de correlação mostra a relação entre o uso de mídias digitais (tempo de tela) e a inatividade física com os indicadores de hipertensão arterial (HA).\n",
    "\n",
    "* Tempo de Tela (tempo_tela_total): Há uma correlação positiva moderada entre o tempo de uso de mídias digitais e os indicadores de HA, sugerindo que maior tempo de uso de mídias digitais pode estar associado a um aumento na propensão a HA.\n",
    "\n",
    "* Inatividade Física (inativo): Como já observado anteriormente, há uma correlação positiva entre inatividade física e HA."
   ]
  },
  {
   "cell_type": "markdown",
   "metadata": {},
   "source": [
    "> Uso de Mídias Digitais: O uso prolongado de mídias digitais pode estar associado a um aumento na propensão a HA, possivelmente devido à relação com comportamentos sedentários.\n",
    "\n",
    "> Sedentarismo: A inatividade física é um fator de risco para HA."
   ]
  },
  {
   "cell_type": "markdown",
   "metadata": {},
   "source": [
    "### Machine Learning\n",
    "\n",
    "Em seguida usaremos um modelo preditivo de Árvore de decisão\n",
    "\n",
    "O modelo deverá prever a presença de hipertensão arterial com base nos dados comportamentais.\n",
    "\n",
    "Por exemplo, se o modelo tem uma alta acurácia e bons valores de precisão e recall, isso significa que o modelo é eficaz em identificar indivíduos com hipertensão arterial com base nos fatores comportamentais analisados.\n",
    "\n",
    "O modelo visa ajudar a identificar padrões e fatores de risco associados à hipertensão arterial, permitindo prever a presença de HA com base em dados comportamentais e demográficos. Isso pode ser útil para iniciativas de saúde pública e intervenções preventivas."
   ]
  },
  {
   "cell_type": "code",
   "execution_count": 69,
   "metadata": {},
   "outputs": [
    {
     "name": "stdout",
     "output_type": "stream",
     "text": [
      "Accuracy: 0.8766233766233766\n",
      "Classification Report:\n",
      "              precision    recall  f1-score   support\n",
      "\n",
      "         0.0       0.13      0.11      0.12       150\n",
      "         1.0       0.93      0.94      0.93      1852\n",
      "\n",
      "    accuracy                           0.88      2002\n",
      "   macro avg       0.53      0.53      0.53      2002\n",
      "weighted avg       0.87      0.88      0.87      2002\n",
      "\n"
     ]
    }
   ],
   "source": [
    "from sklearn.model_selection import train_test_split\n",
    "from sklearn.tree import DecisionTreeClassifier\n",
    "from sklearn.metrics import accuracy_score, classification_report\n",
    "\n",
    "predictive_columns = ['imc', 'obesid', 'fumante', 'exfuma', 'alcabu', 'inativo', 'ind_med_has']\n",
    "\n",
    "predictive_data = dataset2023[predictive_columns]\n",
    "predictive_data = predictive_data.dropna()\n",
    "\n",
    "# Separa variáveis independentes (X) e dependente (y)\n",
    "X = predictive_data.drop(columns=['ind_med_has'])\n",
    "y = predictive_data['ind_med_has']\n",
    "\n",
    "X_train, X_test, y_train, y_test = train_test_split(X, y, test_size=0.3, random_state=42)\n",
    "\n",
    "clf = DecisionTreeClassifier(random_state=42)\n",
    "clf.fit(X_train, y_train)\n",
    "\n",
    "y_pred = clf.predict(X_test)\n",
    "\n",
    "accuracy = accuracy_score(y_test, y_pred)\n",
    "report = classification_report(y_test, y_pred)\n",
    "\n",
    "print(f'Accuracy: {accuracy}')\n",
    "print(f'Classification Report:\\n{report}')"
   ]
  },
  {
   "cell_type": "markdown",
   "metadata": {},
   "source": [
    "### Desempenho Geral\n",
    "\n",
    "Acuraca: 0.88 (87.66%)\n",
    "  Indica que 87.66% das previsões feitas pelo modelo foram corretas.\n",
    "\n",
    "Relatório de Classificação\n",
    "  Classe 0 (Ausência de HA)\n",
    "    Precisão: 0.13\n",
    "    Apenas 13% das previsões da classe 0 estavam corretas.\n",
    "    Recall: 0.11\n",
    "    O modelo conseguiu identificar corretamente apenas 11% dos casos reais de ausência de HA.\n",
    "    F1-Score: 0.12\n",
    "    Combinação da precisão e recall, indicando desempenho pobre para a classe 0.\n",
    "   \n",
    "Classe 1 (Presença de HA)\n",
    "  Precisão: 0.93\n",
    "    93% das previsões da classe 1 estavam corretas.\n",
    "  Recall: 0.94\n",
    "    O modelo conseguiu identificar corretamente 94% dos casos reais de presença de HA.\n",
    "  F1-Score: 0.93\n",
    "    Excelente desempenho para a classe 1.\n",
    "    \n",
    "\n",
    "Média Macro\n",
    "\n",
    "  Macro Avg: Considera a média das métricas de precisão e recall das duas classes.\n",
    "    Precisão: 0.53\n",
    "    Recall: 0.53\n",
    "    F1-Score: 0.53\n",
    "    Média Ponderada\n",
    "\n",
    "Weighted Avg: Média ponderada das métricas de precisão e recall, levando em conta o número de ocorrências em cada classe.\n",
    "\n",
    "  Precisão: 0.87\n",
    "  Recall: 0.88\n",
    "  F1-Score: 0.87"
   ]
  },
  {
   "cell_type": "markdown",
   "metadata": {},
   "source": [
    "#### Desempenho Desbalanceado:\n",
    "\n",
    "O modelo tem um desempenho excelente em prever a presença de HA (classe 1), mas um desempenho muito fraco em prever a ausência de HA (classe 0).\n",
    "Isso indica que os dados podem estar desbalanceados, com muito mais exemplos de HA (classe 1) do que de ausência de HA (classe 0).\n",
    "\n",
    "#### Impacto do Desbalanceamento:\n",
    "\n",
    "O desbalanceamento dos dados pode causar o modelo a \"ignorar\" a classe minoritária (ausência de HA) e focar na classe majoritária (presença de HA), resultando em baixa precisão e recall para a classe minoritária."
   ]
  },
  {
   "cell_type": "markdown",
   "metadata": {},
   "source": [
    "### Passos Futuros"
   ]
  },
  {
   "cell_type": "markdown",
   "metadata": {},
   "source": [
    "* Melhorar o Modelo\n",
    "\n",
    "* Balanceamento dos Dados:\n",
    "\n",
    "* Usar técnicas como oversampling (SMOTE) para a classe minoritária ou undersampling para a classe majoritária para equilibrar as classes.\n",
    "\n",
    "* Ajuste de Hiperparâmetros:\n",
    "\n",
    "  * Ajustar os hiperparâmetros do modelo de árvore de decisão para melhorar o desempenho.\n",
    "\n",
    "* Uso de Modelos Avançados:\n",
    "\n",
    "  * Experimentar com outros modelos como Random Forest, Gradient Boosting ou modelos baseados em redes neurais.\n",
    "\n",
    "* Validação Cruzada:\n",
    "\n",
    "  * Usar validação cruzada para garantir que o modelo seja robusto e generalize bem para dados não vistos."
   ]
  },
  {
   "cell_type": "code",
   "execution_count": null,
   "metadata": {},
   "outputs": [],
   "source": []
  }
 ],
 "metadata": {
  "kernelspec": {
   "display_name": "Python 3",
   "language": "python",
   "name": "python3"
  },
  "language_info": {
   "codemirror_mode": {
    "name": "ipython",
    "version": 3
   },
   "file_extension": ".py",
   "mimetype": "text/x-python",
   "name": "python",
   "nbconvert_exporter": "python",
   "pygments_lexer": "ipython3",
   "version": "3.8.5"
  }
 },
 "nbformat": 4,
 "nbformat_minor": 4
}
